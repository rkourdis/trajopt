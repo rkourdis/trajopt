{
 "cells": [
  {
   "cell_type": "code",
   "execution_count": 4,
   "id": "aa19ffa4-1f72-4e66-b9e8-c586cca4f6b0",
   "metadata": {},
   "outputs": [],
   "source": [
    "import pinocchio as pin\n",
    "import numpy as np\n",
    "import sys\n",
    "import os\n",
    "from os.path import dirname, join, abspath \n",
    " \n",
    "pkg_path = \"C:\\\\Users\\\\rafael\\\\Projects\\\\Quadruped\\\\optimization\\\\\"\n",
    "urdf_path = join(pkg_path, \"example-robot-data/robots/solo_description/robots/solo12.urdf\")\n",
    "\n",
    "# Load URDF. This creates a RobotWrapper that contains both the read-only model and the data:\n",
    "robot = pin.RobotWrapper.BuildFromURDF(\n",
    "    urdf_path, package_dirs = [pkg_path], root_joint = pin.JointModelFreeFlyer()\n",
    ")"
   ]
  },
  {
   "cell_type": "code",
   "execution_count": 5,
   "id": "8d08faad-4907-4078-8407-170ce91b4ee5",
   "metadata": {},
   "outputs": [],
   "source": [
    "# !pip install matplotlib\n",
    "import time\n",
    "import matplotlib.pyplot as plt"
   ]
  },
  {
   "cell_type": "code",
   "execution_count": 6,
   "id": "7c39e575-9de1-4989-ac09-a4b30fb22a11",
   "metadata": {},
   "outputs": [
    {
     "name": "stdout",
     "output_type": "stream",
     "text": [
      "You can open the visualizer by visiting the following URL:\n",
      "http://127.0.0.1:7001/static/\n"
     ]
    }
   ],
   "source": [
    "robot.setVisualizer(\n",
    "    pin.visualize.MeshcatVisualizer(robot.model, robot.collision_model, robot.visual_model)\n",
    ")\n",
    "robot.initViewer()\n",
    "robot.loadViewerModel()\n",
    "\n",
    "q0 = pin.neutral(robot.model)\n",
    "robot.display(q0)"
   ]
  },
  {
   "cell_type": "code",
   "execution_count": 66,
   "id": "425da5dd-b699-4ef7-961e-457713e0a101",
   "metadata": {},
   "outputs": [
    {
     "data": {
      "text/plain": [
       "19"
      ]
     },
     "execution_count": 66,
     "metadata": {},
     "output_type": "execute_result"
    }
   ],
   "source": [
    "len(q0)"
   ]
  },
  {
   "cell_type": "code",
   "execution_count": 5,
   "id": "98b54a7c-b4c1-404a-9126-b89c58f8dc82",
   "metadata": {},
   "outputs": [
    {
     "data": {
      "text/plain": [
       "Nb joints = 14 (nq=19,nv=18)\n",
       "  Joint 0 universe: parent=0\n",
       "  Joint 1 root_joint: parent=0\n",
       "  Joint 2 FL_HAA: parent=1\n",
       "  Joint 3 FL_HFE: parent=2\n",
       "  Joint 4 FL_KFE: parent=3\n",
       "  Joint 5 FR_HAA: parent=1\n",
       "  Joint 6 FR_HFE: parent=5\n",
       "  Joint 7 FR_KFE: parent=6\n",
       "  Joint 8 HL_HAA: parent=1\n",
       "  Joint 9 HL_HFE: parent=8\n",
       "  Joint 10 HL_KFE: parent=9\n",
       "  Joint 11 HR_HAA: parent=1\n",
       "  Joint 12 HR_HFE: parent=11\n",
       "  Joint 13 HR_KFE: parent=12"
      ]
     },
     "execution_count": 5,
     "metadata": {},
     "output_type": "execute_result"
    }
   ],
   "source": [
    "robot.model"
   ]
  },
  {
   "cell_type": "code",
   "execution_count": 6,
   "id": "b92bdcf9-051d-4dfc-9f7d-b69dbb886f80",
   "metadata": {},
   "outputs": [
    {
     "data": {
      "text/plain": [
       "7"
      ]
     },
     "execution_count": 6,
     "metadata": {},
     "output_type": "execute_result"
    }
   ],
   "source": [
    "robot.model.getJointId(\"FR_KFE\")"
   ]
  },
  {
   "cell_type": "code",
   "execution_count": 8,
   "id": "851f76f2-6598-4e55-b6c1-cdadf41bf288",
   "metadata": {},
   "outputs": [
    {
     "data": {
      "text/plain": [
       "pinocchio.pinocchio_pywrap.JointModel"
      ]
     },
     "execution_count": 8,
     "metadata": {},
     "output_type": "execute_result"
    }
   ],
   "source": [
    "type(robot.model.joints[1])"
   ]
  },
  {
   "cell_type": "code",
   "execution_count": 8,
   "id": "1b8ce86f-0efb-403f-b372-0c5743daeb0e",
   "metadata": {},
   "outputs": [],
   "source": [
    "def get_q_off(robot, joint: str) -> int:\n",
    "    joint_id = robot.model.getJointId(joint)\n",
    "    return sum(robot.model.joints[idx].nq for idx in range(joint_id - 1))\n",
    "\n",
    "def get_v_off(robot, joint: str) -> int:\n",
    "    joint_id = robot.model.getJointId(joint)\n",
    "    return sum(robot.model.joints[idx].nv for idx in range(joint_id - 1))\n",
    "\n",
    "def spinni_boi():\n",
    "    import time \n",
    "    from copy import deepcopy\n",
    "    \n",
    "    cur_t = 0\n",
    "    period = 2  # 1 / rps\n",
    "    \n",
    "    while True:\n",
    "        angle = (cur_t % period) / period * (2 * np.pi)\n",
    "        \n",
    "        q = deepcopy(q0)\n",
    "    \n",
    "        joint_id = robot.model.getJointId(\"FR_KFE\")\n",
    "        index = sum(robot.model.joints[idx].nq for idx in range(joint_id - 1))\n",
    "                    \n",
    "        q[index] = angle\n",
    "        robot.display(q)\n",
    "        \n",
    "        time.sleep(0.01)\n",
    "        cur_t += 0.01"
   ]
  },
  {
   "cell_type": "code",
   "execution_count": 9,
   "id": "51240ad8-21c6-422f-aad2-1b624ee4e45d",
   "metadata": {},
   "outputs": [
    {
     "name": "stdout",
     "output_type": "stream",
     "text": [
      "You can open the visualizer by visiting the following URL:\n",
      "http://127.0.0.1:7001/static/\n"
     ]
    }
   ],
   "source": [
    "robot.rebuildData()\n",
    "fixed_base = robot.buildReducedRobot(\n",
    "    list_of_joints_to_lock=list(set(robot.model.names) - {\"universe\", \"FR_KFE\"})\n",
    ")\n",
    "\n",
    "fixed_base.setVisualizer(\n",
    "    pin.visualize.MeshcatVisualizer(fixed_base.model, fixed_base.collision_model, fixed_base.visual_model)\n",
    ")\n",
    "fixed_base.initViewer()\n",
    "fixed_base.loadViewerModel()"
   ]
  },
  {
   "cell_type": "code",
   "execution_count": 13,
   "id": "d78748f7-18f0-4219-8a93-6ffc2e1eb3d6",
   "metadata": {
    "scrolled": true
   },
   "outputs": [
    {
     "data": {
      "image/png": "[encoded data removed]",
      "text/plain": [
       "<Figure size 640x480 with 1 Axes>"
      ]
     },
     "metadata": {},
     "output_type": "display_data"
    }
   ],
   "source": [
    "q0 = pin.neutral(fixed_base.model)\n",
    "fixed_base.display(q0)\n",
    "\n",
    "q, v = pin.neutral(fixed_base.model), pin.utils.zero(fixed_base.nv)\n",
    "t, dt = 0, 0.01\n",
    "\n",
    "tau = pin.utils.zero(fixed_base.nv)\n",
    "tau[get_v_off(fixed_base, \"FR_KFE\")] = 0.027350121333861\n",
    "\n",
    "h_pos, h_vel, h_acc = [], [], []\n",
    "\n",
    "while t < 4:\n",
    "    accel = pin.aba(\n",
    "        fixed_base.model,\n",
    "        fixed_base.data,\n",
    "        q, v, tau\n",
    "    )\n",
    "\n",
    "    h_acc.append((t, accel[0]))\n",
    "    \n",
    "    v += accel * dt\n",
    "    h_vel.append((t, v[0]))\n",
    "    \n",
    "    q = pin.integrate(fixed_base.model, q, v*dt)\n",
    "    h_pos.append((t, q[0]))\n",
    "    \n",
    "    fixed_base.display(q)\n",
    "    time.sleep(dt)\n",
    "    t += dt\n",
    "\n",
    "t, q = zip(*h_pos)\n",
    "plt.plot(t, q, label = \"angle (rad)\")\n",
    "\n",
    "t, qd = zip(*h_vel)\n",
    "plt.plot(t, qd, label = \"vel (rad/s)\")\n",
    "\n",
    "t, a = zip(*h_acc)\n",
    "plt.plot(t, np.array(a), label = \"accel (rad/s^2)\")\n",
    "\n",
    "plt.legend()\n",
    "plt.show()"
   ]
  },
  {
   "cell_type": "code",
   "execution_count": 134,
   "id": "a097471c-7d72-4164-9247-e4fb559f07ec",
   "metadata": {},
   "outputs": [
    {
     "data": {
      "text/plain": [
       "['universe',\n",
       " 'root_joint',\n",
       " 'FL_HAA',\n",
       " 'FL_HFE',\n",
       " 'FL_KFE',\n",
       " 'FR_HAA',\n",
       " 'FR_HFE',\n",
       " 'FR_KFE',\n",
       " 'HL_HAA',\n",
       " 'HL_HFE',\n",
       " 'HL_KFE',\n",
       " 'HR_HAA',\n",
       " 'HR_HFE',\n",
       " 'HR_KFE']"
      ]
     },
     "execution_count": 134,
     "metadata": {},
     "output_type": "execute_result"
    }
   ],
   "source": [
    "list(robot.model.names)"
   ]
  },
  {
   "cell_type": "code",
   "execution_count": 14,
   "id": "61d49635-5931-4703-a42a-92dee6c98b44",
   "metadata": {},
   "outputs": [
    {
     "ename": "ImportError",
     "evalue": "cannot import name 'casadi' from 'pinocchio' (C:\\Users\\rafael\\miniconda3\\Lib\\site-packages\\pinocchio\\__init__.py)",
     "output_type": "error",
     "traceback": [
      "\u001b[1;31m---------------------------------------------------------------------------\u001b[0m",
      "\u001b[1;31mImportError\u001b[0m                               Traceback (most recent call last)",
      "Cell \u001b[1;32mIn[14], line 1\u001b[0m\n\u001b[1;32m----> 1\u001b[0m \u001b[38;5;28;01mfrom\u001b[39;00m \u001b[38;5;21;01mpinocchio\u001b[39;00m \u001b[38;5;28;01mimport\u001b[39;00m casadi\n",
      "\u001b[1;31mImportError\u001b[0m: cannot import name 'casadi' from 'pinocchio' (C:\\Users\\rafael\\miniconda3\\Lib\\site-packages\\pinocchio\\__init__.py)"
     ]
    }
   ],
   "source": [
    "from pinocchio import casadi"
   ]
  },
  {
   "cell_type": "code",
   "execution_count": null,
   "id": "d74b02df-080f-46e5-86ea-4e6c6daf9340",
   "metadata": {},
   "outputs": [],
   "source": []
  }
 ],
 "metadata": {
  "kernelspec": {
   "display_name": "Python 3 (ipykernel)",
   "language": "python",
   "name": "python3"
  },
  "language_info": {
   "codemirror_mode": {
    "name": "ipython",
    "version": 3
   },
   "file_extension": ".py",
   "mimetype": "text/x-python",
   "name": "python",
   "nbconvert_exporter": "python",
   "pygments_lexer": "ipython3",
   "version": "3.11.5"
  }
 },
 "nbformat": 4,
 "nbformat_minor": 5
}
